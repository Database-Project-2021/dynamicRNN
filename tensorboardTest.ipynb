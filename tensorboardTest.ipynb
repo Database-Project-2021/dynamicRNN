{
 "cells": [
  {
   "cell_type": "code",
   "execution_count": 2,
   "source": [
    "import tensorflow\n",
    "# Only use tensorflow's keras!\n",
    "from tensorflow.python import keras as tfkeras\n",
    "from tensorflow.python.training.rmsprop import RMSPropOptimizer\n",
    "import numpy as np\n",
    "\n",
    "tensorflow.enable_eager_execution()\n",
    "\n",
    "\n",
    "class MyModel(tfkeras.Model):\n",
    "    def __init__(self, tensorboard_folder_path):\n",
    "        super(MyModel, self).__init__()\n",
    "        self.dense1 = tfkeras.layers.LSTM(units=6)\n",
    "        self.dense2 = tfkeras.layers.Dense(units=4)\n",
    "        self.graph_has_been_written = False\n",
    "        self.tensorboard_folder_path = tensorboard_folder_path\n",
    "\n",
    "    def call(self, input, **kwargs):\n",
    "        print(\"input shape\", input.shape)\n",
    "        result = self.dense1(input)\n",
    "        result = self.dense2(result)\n",
    "        if not tensorflow.executing_eagerly() and not self.graph_has_been_written:\n",
    "            # In non eager mode and a graph is available which can be written to Tensorboard using the \"old\" FileWriter:\n",
    "            model_graph = result.graph\n",
    "            writer = tensorflow.summary.FileWriter(logdir=self.tensorboard_folder_path, graph=model_graph)\n",
    "            writer.flush()\n",
    "            self.graph_has_been_written = True\n",
    "            print(\"Wrote eager graph to\", self.tensorboard_folder_path)\n",
    "        return result\n",
    "\n",
    "\n",
    "if __name__ == \"__main__\":\n",
    "    print(\"Eager execution:\", tensorflow.executing_eagerly())\n",
    "    # Create model and specify tensorboard folder:\n",
    "    model = MyModel(\"/home/your_username/tensorboardtest/\")\n",
    "    optimizer = RMSPropOptimizer(learning_rate=0.001)\n",
    "    model.compile(optimizer, tensorflow.losses.softmax_cross_entropy, run_eagerly=True)\n",
    "    # Build the model (this will invoke model.call in non-eager mode). If model.build is not called explicitly here, it\n",
    "    # will be called by model.fit_generator implicitly when the first batch is about to be feed to the network.\n",
    "    model.build((None, None, 5))\n",
    "    # Can only be called after the model has been built:\n",
    "    model.summary()\n",
    "\n",
    "    # Two arbitrary batches with different batch size and different sequence length:\n",
    "    x1 = np.array([[[1, 2, 3, 4, 5], [1, 2, 3, 4, 5], [1, 2, 3, 4, 5], [1, 2, 3, 4, 5]]],\n",
    "                  dtype=np.float32)\n",
    "    y1 = np.array([[1, 0, 0, 0]], dtype=np.float32)\n",
    "    print(\"x1 shape\", x1.shape)\n",
    "    print(\"y1 shape\", y1.shape)\n",
    "\n",
    "    x2 = np.array([[[1, 2, 3, 4, 5], [1, 2, 3, 4, 5], [1, 2, 3, 4, 5]],\n",
    "                   [[1, 2, 3, 4, 5], [1, 2, 3, 4, 5], [1, 2, 3, 4, 5]]], dtype=np.float32)\n",
    "    y2 = np.array([[1, 0, 0, 0], [1, 0, 0, 0]], dtype=np.float32)\n",
    "    print(\"x2 shape\", x2.shape)\n",
    "    print(\"y2 shape\", y2.shape)\n",
    "\n",
    "    # Simply yield the two batches alternately\n",
    "    def iterator():\n",
    "        switcher = False\n",
    "        while 1:\n",
    "            if switcher:\n",
    "                yield x1, y1\n",
    "            else:\n",
    "                yield x2, y2\n",
    "            switcher = not switcher\n",
    "\n",
    "    model.fit_generator(iterator(), steps_per_epoch=10, epochs=1)\n"
   ],
   "outputs": [
    {
     "output_type": "stream",
     "name": "stdout",
     "text": [
      "Eager execution: True\n"
     ]
    },
    {
     "output_type": "error",
     "ename": "AttributeError",
     "evalue": "module 'tensorflow.keras.losses' has no attribute 'softmax_cross_entropy'",
     "traceback": [
      "\u001b[0;31m---------------------------------------------------------------------------\u001b[0m",
      "\u001b[0;31mAttributeError\u001b[0m                            Traceback (most recent call last)",
      "\u001b[0;32m<ipython-input-2-bea5c487049d>\u001b[0m in \u001b[0;36m<module>\u001b[0;34m\u001b[0m\n\u001b[1;32m     35\u001b[0m     \u001b[0mmodel\u001b[0m \u001b[0;34m=\u001b[0m \u001b[0mMyModel\u001b[0m\u001b[0;34m(\u001b[0m\u001b[0;34m\"/home/your_username/tensorboardtest/\"\u001b[0m\u001b[0;34m)\u001b[0m\u001b[0;34m\u001b[0m\u001b[0;34m\u001b[0m\u001b[0m\n\u001b[1;32m     36\u001b[0m     \u001b[0moptimizer\u001b[0m \u001b[0;34m=\u001b[0m \u001b[0mRMSPropOptimizer\u001b[0m\u001b[0;34m(\u001b[0m\u001b[0mlearning_rate\u001b[0m\u001b[0;34m=\u001b[0m\u001b[0;36m0.001\u001b[0m\u001b[0;34m)\u001b[0m\u001b[0;34m\u001b[0m\u001b[0;34m\u001b[0m\u001b[0m\n\u001b[0;32m---> 37\u001b[0;31m     \u001b[0mmodel\u001b[0m\u001b[0;34m.\u001b[0m\u001b[0mcompile\u001b[0m\u001b[0;34m(\u001b[0m\u001b[0moptimizer\u001b[0m\u001b[0;34m,\u001b[0m \u001b[0mtensorflow\u001b[0m\u001b[0;34m.\u001b[0m\u001b[0mlosses\u001b[0m\u001b[0;34m.\u001b[0m\u001b[0msoftmax_cross_entropy\u001b[0m\u001b[0;34m,\u001b[0m \u001b[0mrun_eagerly\u001b[0m\u001b[0;34m=\u001b[0m\u001b[0;32mTrue\u001b[0m\u001b[0;34m)\u001b[0m\u001b[0;34m\u001b[0m\u001b[0;34m\u001b[0m\u001b[0m\n\u001b[0m\u001b[1;32m     38\u001b[0m     \u001b[0;31m# Build the model (this will invoke model.call in non-eager mode). If model.build is not called explicitly here, it\u001b[0m\u001b[0;34m\u001b[0m\u001b[0;34m\u001b[0m\u001b[0;34m\u001b[0m\u001b[0m\n\u001b[1;32m     39\u001b[0m     \u001b[0;31m# will be called by model.fit_generator implicitly when the first batch is about to be feed to the network.\u001b[0m\u001b[0;34m\u001b[0m\u001b[0;34m\u001b[0m\u001b[0;34m\u001b[0m\u001b[0m\n",
      "\u001b[0;31mAttributeError\u001b[0m: module 'tensorflow.keras.losses' has no attribute 'softmax_cross_entropy'"
     ]
    }
   ],
   "metadata": {}
  }
 ],
 "metadata": {
  "orig_nbformat": 4,
  "language_info": {
   "name": "python",
   "version": "3.7.3",
   "mimetype": "text/x-python",
   "codemirror_mode": {
    "name": "ipython",
    "version": 3
   },
   "pygments_lexer": "ipython3",
   "nbconvert_exporter": "python",
   "file_extension": ".py"
  },
  "kernelspec": {
   "name": "python3",
   "display_name": "Python 3.7.3 64-bit ('tf1.9': conda)"
  },
  "interpreter": {
   "hash": "4202b2a83643d0a65179e414c24bbd6d497df68b39636baa8f7088bc1ef630c1"
  }
 },
 "nbformat": 4,
 "nbformat_minor": 2
}